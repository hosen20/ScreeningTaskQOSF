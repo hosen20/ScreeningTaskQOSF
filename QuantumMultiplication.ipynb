{
 "cells": [
  {
   "cell_type": "markdown",
   "metadata": {},
   "source": [
    "<font style=\"font-size:28px;\" align=\"left\"><b> Multiplication of 2 numbers using qiskit </b></font>\n",
    "<br>\n",
    "Prepared by Hussein Shiri\n",
    "<br><br>"
   ]
  },
  {
   "cell_type": "markdown",
   "metadata": {},
   "source": [
    "### Introduction\n",
    "\n",
    "In this notebook, a solution for multiplying 2 numbers using qiskit is proposed.\n",
    "\n",
    "The main methodology consists of 2 steps:\n",
    "\n",
    "    1. Implementing a function that adds 2 numbers using qiskit\n",
    "    \n",
    "    2. Multiplying 2 numbers using repetitive addition"
   ]
  },
  {
   "cell_type": "markdown",
   "metadata": {},
   "source": [
    "### Importing before we begin"
   ]
  },
  {
   "cell_type": "code",
   "execution_count": 1,
   "metadata": {},
   "outputs": [],
   "source": [
    "from random import randrange\n",
    "\n",
    "from qiskit import QuantumCircuit, QuantumRegister, ClassicalRegister, Aer, execute"
   ]
  },
  {
   "cell_type": "markdown",
   "metadata": {},
   "source": [
    "### Generating two random numbers <= 23"
   ]
  },
  {
   "cell_type": "code",
   "execution_count": 2,
   "metadata": {},
   "outputs": [
    {
     "name": "stdout",
     "output_type": "stream",
     "text": [
      "A = 7 and B = 8\n"
     ]
    }
   ],
   "source": [
    "# When i ran my multiply(A, B) function, whenever i enter a number > 23 the kernel dies\n",
    "# So our random number will be <= 23\n",
    "A = randrange(0, 24)\n",
    "\n",
    "B = randrange(0, 24)\n",
    "\n",
    "print(f\"A = {A} and B = {B}\")"
   ]
  },
  {
   "cell_type": "markdown",
   "metadata": {
    "scrolled": true
   },
   "source": [
    "### Function that changes from integer to binary"
   ]
  },
  {
   "cell_type": "code",
   "execution_count": 3,
   "metadata": {},
   "outputs": [
    {
     "name": "stdout",
     "output_type": "stream",
     "text": [
      "In binary: A = 111 and B = 1000\n"
     ]
    }
   ],
   "source": [
    "def binary(c):\n",
    "    '''\n",
    "    Converts an integer c to a binary string of at most 10 digits\n",
    "    So the maximum number the function can take as input is 1023\n",
    "    Returns the binary number as a string\n",
    "    '''\n",
    "    # first checks if the number c == 0\n",
    "    if c == 0:\n",
    "        return '0'\n",
    "    \n",
    "    # the following code is executed if c != 0\n",
    "    # if action is True a '1' is added at the end of the string c_binary after finishing\n",
    "    # example: '01001' --> '010011'\n",
    "    c_binary = ''\n",
    "    action = False\n",
    "    if c%2 != 0:\n",
    "        c = c-1\n",
    "        action = True\n",
    "    \n",
    "    # finds the binary representation of the number c\n",
    "    for j in [9, 8, 7, 6, 5, 4, 3, 2, 1]:\n",
    "        to_subtract = 1\n",
    "        \n",
    "        # finds 2^j\n",
    "        for k in range(j):\n",
    "            to_subtract *= 2\n",
    "        \n",
    "        if c-to_subtract >= 0:\n",
    "            c = c-(to_subtract)\n",
    "            c_binary += '1'\n",
    "        else:\n",
    "            c_binary += '0'\n",
    "    \n",
    "    # adds '1' at the end of the string if action == True\n",
    "    if action == True:\n",
    "        c_binary += '1'\n",
    "    else:\n",
    "        c_binary += '0'\n",
    "\n",
    "    j = 0\n",
    "    # deletes any zero's at the beginning of the string c_binary\n",
    "    # example '0010110' --> '10110'\n",
    "    c_binary_final = ''\n",
    "    while c_binary[j] == '0':\n",
    "        j = j + 1\n",
    "    for k in range(j, len(c_binary)):\n",
    "        c_binary_final += c_binary[k]\n",
    "    c_binary = c_binary_final\n",
    "    \n",
    "    return c_binary\n",
    "\n",
    "A_binary = binary(A)\n",
    "B_binary = binary(B)\n",
    "print(f\"In binary: A = {A_binary} and B = {B_binary}\")"
   ]
  },
  {
   "cell_type": "markdown",
   "metadata": {},
   "source": [
    "### Implementing an adder function"
   ]
  },
  {
   "cell_type": "code",
   "execution_count": 4,
   "metadata": {},
   "outputs": [
    {
     "name": "stdout",
     "output_type": "stream",
     "text": [
      "{'01111': 2}\n"
     ]
    }
   ],
   "source": [
    "def adder(l, l2):\n",
    "    '''\n",
    "    Adds 2 numbers l and l2\n",
    "    Returns the counts\n",
    "    example: l = '10', l2 = '01' returns {'011': number_of_shots}\n",
    "    example:\n",
    "    a = 01, b= 01\n",
    "    a+b = 10\n",
    "    a+b = 0 1\n",
    "        + 0 1\n",
    "        ------\n",
    "          0 0\n",
    "        + 1   (1 is the ancilla bit or remaining bit)\n",
    "        ------\n",
    "        = 10\n",
    "    '''\n",
    "    \n",
    "    if len(l) > len(l2):\n",
    "        n = len(l)\n",
    "    else:\n",
    "        n = len(l2)\n",
    "    \n",
    "    # reserves the number of classical and quantum registers required\n",
    "    # 2n quantum registers to store the inputs l --> a and l2 --> b\n",
    "    # n+1 quantum registers to store the ancilla bits --> c\n",
    "    # n+1 quantum registers to store the output number --> d\n",
    "    # n+1 classical registers to measure the output number(register d) --> cl\n",
    "    a = QuantumRegister(n)\n",
    "    b = QuantumRegister(n)\n",
    "    c = QuantumRegister(n + 1)\n",
    "    d = QuantumRegister(n + 1)\n",
    "    cl = ClassicalRegister(n + 1)\n",
    "    # puts all the registers together in 1 circuit\n",
    "    qc = QuantumCircuit(a, b, c, d, cl)\n",
    "    \n",
    "    # prepare the input numbers using qubits(registers a and b)\n",
    "    for i in range(len(l)):\n",
    "        if l[i] == '1':\n",
    "            qc.x(a[len(l) - (i+1)])\n",
    "    for i in range(len(l2)):\n",
    "        if l2[i] == '1':\n",
    "            qc.x(b[len(l2) - (i+1)])\n",
    "    \n",
    "    # start the operation of addition\n",
    "    for i in range(n):\n",
    "        # find the output bits\n",
    "        # example: if a=1 and b=1 and ancilla(remaing) bit c=1 then d = 1 with an extra remaining bit\n",
    "        # example: if a=1 and b=1 and ancilla(remaing) bit c=0 then d = 0 with an extra remaining bit\n",
    "        qc.cx(c[i], d[i])\n",
    "        qc.cx(a[i], d[i])\n",
    "        qc.cx(b[i], d[i])\n",
    "        \n",
    "        # find the ancilla bits \n",
    "        qc.ccx(a[i], b[i], c[i+1])\n",
    "        qc.ccx(a[i], c[i], c[i+1])\n",
    "        qc.ccx(b[i], c[i], c[i+1])\n",
    "    # find the last output bit\n",
    "    # an extra ouput bit might be needed because there might be an additional remaining bit from previous addtition\n",
    "    qc.cx(c[i+1], d[i+1])\n",
    "    \n",
    "    # Now addition finished so measure the circuit\n",
    "    # Note: range(n+1) and not range(n) due to the extra output bit\n",
    "    for i in range(n+1):\n",
    "        qc.measure(d[i], cl[i])\n",
    "    \n",
    "    # to draw the circuit the below code can be uncommented\n",
    "    # display(qc.draw(output = 'mpl', reverse_bits = True))\n",
    "    \n",
    "    # execute the circuit\n",
    "    num_shots = 2\n",
    "    job = execute(qc, Aer.get_backend('qasm_simulator'), shots=num_shots)\n",
    "    \n",
    "    #Get results of program\n",
    "    job_stats = job.result().get_counts()\n",
    "    \n",
    "    #return the results(counts)\n",
    "    return job_stats\n",
    "\n",
    "print(adder(A_binary, B_binary))"
   ]
  },
  {
   "cell_type": "markdown",
   "metadata": {},
   "source": [
    "### Implementing a function that multiplies 2 numbers"
   ]
  },
  {
   "cell_type": "code",
   "execution_count": 5,
   "metadata": {},
   "outputs": [
    {
     "name": "stdout",
     "output_type": "stream",
     "text": [
      "111000\n",
      "56\n"
     ]
    }
   ],
   "source": [
    "def multiply(A, B):\n",
    "    '''\n",
    "    Takes 2 integers A and B\n",
    "    Uses repetitive addition to find final_answer\n",
    "    Returns the multiplication of A and B\n",
    "    example:\n",
    "    A = 3\n",
    "    B = 5\n",
    "    answer = 0\n",
    "    Repeat A times ==> Repeat 3 times\n",
    "    1st time: answer = answer + B = 0 + 5 = 5\n",
    "    2nd time: answer = answer + B = 5 + 5 = 10\n",
    "    3rd time: answer = answer + B = 10 + 5 = 15\n",
    "    return answer\n",
    "    '''\n",
    "    \n",
    "    # transform the values from integer to binary\n",
    "    first = binary(A)\n",
    "    second = binary(B)\n",
    "    \n",
    "    answer = '0'\n",
    "    if int(first, 2) != 0 and int(second, 2) != 0: # int(first, 2): transforms from binary to integer\n",
    "        for _ in range(int(first, 2)): # repeat the addition A times\n",
    "            \n",
    "            preanswer = ''\n",
    "            # start the addition process\n",
    "            answer = adder(answer, second)\n",
    "            \n",
    "            # takeoff any extra zero's at the beginning of the string\n",
    "            # the end string is put in the variable answer\n",
    "            # example: '01010' --> '1010'\n",
    "            for key in answer: answer = key\n",
    "            j = 0\n",
    "            while key[j] == '0':\n",
    "                j = j + 1\n",
    "            for k in range(j, len(key)):\n",
    "                preanswer += key[k]\n",
    "            answer = preanswer\n",
    "    \n",
    "    # prints the multiplication result as binary\n",
    "    print(answer)\n",
    "    # changes final_answer from binary to integer\n",
    "    final_answer = int(answer, 2)\n",
    "    # prints the multiplication result as integer\n",
    "    print(final_answer)\n",
    "\n",
    "multiply(A, B)"
   ]
  },
  {
   "cell_type": "markdown",
   "metadata": {},
   "source": [
    "# Extra"
   ]
  },
  {
   "cell_type": "markdown",
   "metadata": {},
   "source": [
    "##### Second method main methodology and how to perform swap"
   ]
  },
  {
   "cell_type": "markdown",
   "metadata": {},
   "source": [
    "The main methodology of the second method focuses on changing how the adder function works.\n",
    "\n",
    "Instead of having n+1 'd' quantum registers, we have only 1 'd' quantum register. And the output number is stored\n",
    "in the n+1 'b' registers.\n",
    "\n",
    "In the 'b' registers the first n have the input number stored in them. After finding the first digit of the output \n",
    "number and storing it in 'd', we use swap to put the value in the 'd' register in the first 'b' register and then we reset the value of the 'd' register to 0. And we repeat for the second, third,... values."
   ]
  },
  {
   "cell_type": "markdown",
   "metadata": {},
   "source": [
    "##### Example"
   ]
  },
  {
   "cell_type": "markdown",
   "metadata": {},
   "source": [
    "a0 = 1, b0 = 0, c0 = 0, d0 = 0\n",
    "\n",
    "d0 becomes 1\n",
    "\n",
    "==> a0 = 1, b0 = 0, c0= 0, d0 = 1\n",
    "\n",
    "then put the value of d0 in b0 and reset d0\n",
    "\n",
    "==> a0 = 1, b0 = 1, c0 = 0, d0 = 0\n",
    "\n",
    "And continue in the same process for a1, b1, c1, d0"
   ]
  },
  {
   "cell_type": "markdown",
   "metadata": {},
   "source": [
    "# Optimizing the function adder so that it uses less qubits but more gates"
   ]
  },
  {
   "cell_type": "code",
   "execution_count": 6,
   "metadata": {},
   "outputs": [
    {
     "name": "stdout",
     "output_type": "stream",
     "text": [
      "{'01111': 2}\n"
     ]
    }
   ],
   "source": [
    "def adder_optimized(l, l2):\n",
    "    '''\n",
    "    Adds 2 numbers l and l2\n",
    "    Returns the counts\n",
    "    example: l = '10', l2 = '01' returns {'011': number_of_shots}\n",
    "    example:\n",
    "    a = 01, b= 01\n",
    "    a+b = 10\n",
    "    a+b = 0 1\n",
    "        + 0 1\n",
    "        ------\n",
    "          0 0\n",
    "        + 1   (1 is the ancilla bit or remaining bit)\n",
    "        ------\n",
    "        = 10\n",
    "    '''\n",
    "    \n",
    "    if len(l) > len(l2):\n",
    "        n = len(l)\n",
    "    else:\n",
    "        n = len(l2)\n",
    "    \n",
    "    # reserves the number of classical and quantum registers required\n",
    "    # 2n+1 quantum registers to store the inputs l --> a and l2 --> b, the extra 1 for the extra output bit\n",
    "    # n+1 quantum registers to store the ancilla bits --> c\n",
    "    # 1 quantum registers to store the output number --> d\n",
    "    # later the value of d will be stored in the b's registers using swap\n",
    "    # n+1 classical registers to measure the output number(register d) --> cl\n",
    "    a = QuantumRegister(n)\n",
    "    b = QuantumRegister(n + 1)\n",
    "    c = QuantumRegister(n + 1)\n",
    "    d = QuantumRegister(1)\n",
    "    cl = ClassicalRegister(n + 1)\n",
    "    # puts all the registers together in one circuit\n",
    "    qc = QuantumCircuit(a, b, c, d, cl)\n",
    "    \n",
    "    # prepare the input numbers using qubits(registers a and b)\n",
    "    for i in range(len(l)):\n",
    "        if l[i] == '1':\n",
    "            qc.x(a[len(l) - (i+1)])\n",
    "    for i in range(len(l2)):\n",
    "        if l2[i] == '1':\n",
    "            qc.x(b[len(l2) - (i+1)])\n",
    "    \n",
    "    for i in range(n):\n",
    "        # for the below code see the above provided example and the previous adder() function\n",
    "        qc.cx(c[i], d[0])\n",
    "        qc.cx(a[i], d[0])\n",
    "        qc.cx(b[i], d[0])\n",
    "        \n",
    "        qc.ccx(a[i], b[i], c[i+1])\n",
    "        qc.ccx(a[i], c[i], c[i+1])\n",
    "        qc.ccx(b[i], c[i], c[i+1])\n",
    "        \n",
    "        qc.cx(b[i], d[0])\n",
    "        qc.cx(d[0], b[i])\n",
    "        qc.cx(b[i], d[0])\n",
    "        qc.reset(d[0])\n",
    "    qc.cx(c[i+1], b[i+1])\n",
    "    \n",
    "    \n",
    "    for i in range(n+1):\n",
    "        qc.measure(b[i], cl[i])\n",
    "    \n",
    "    #execute the circuit\n",
    "    num_shots = 2\n",
    "    job = execute(qc, Aer.get_backend('qasm_simulator'), shots=num_shots)\n",
    "    \n",
    "    #Get results of program\n",
    "    job_stats = job.result().get_counts()\n",
    "    \n",
    "    #return the results\n",
    "    return job_stats\n",
    "\n",
    "print(adder_optimized(A_binary, B_binary))"
   ]
  },
  {
   "cell_type": "markdown",
   "metadata": {},
   "source": [
    "### Redoing multiplication"
   ]
  },
  {
   "cell_type": "markdown",
   "metadata": {},
   "source": [
    "##### Before that a small comparison"
   ]
  },
  {
   "cell_type": "markdown",
   "metadata": {},
   "source": [
    "The adder() function required 5n+1 qubits but less gates.\n",
    "\n",
    "The adder_optimized() function required 4n+1 qubits but more gates.\n",
    "\n",
    "Found the adder_optimized() function to be a lot slower. That is due to the swap operation. Because if two qubits \n",
    "are not near each other, swapping them would require even more additional gates.\n",
    "\n",
    "So due to this slow speed numbers A = 7, and B = 5 are provided below."
   ]
  },
  {
   "cell_type": "code",
   "execution_count": 7,
   "metadata": {},
   "outputs": [
    {
     "name": "stdout",
     "output_type": "stream",
     "text": [
      "100011\n",
      "35\n"
     ]
    }
   ],
   "source": [
    "A = 7\n",
    "B = 5\n",
    "# the function multiply_optimized is the same as the function multiply but with only some name changes\n",
    "# multiply --> multiply_optimized\n",
    "# adder --> adder_optimized\n",
    "def multiply_optimized(A, B):\n",
    "    \n",
    "    first = binary(A)\n",
    "    second = binary(B)\n",
    "    \n",
    "    answer = '0'\n",
    "    if int(first, 2) != 0 and int(second, 2) != 0:\n",
    "        \n",
    "        for _ in range(int(first, 2)):\n",
    "            \n",
    "            preanswer = ''\n",
    "            answer = adder_optimized(answer, second)\n",
    "            \n",
    "            for key in answer: answer = key\n",
    "            j = 0\n",
    "            while key[j] == '0':\n",
    "                j = j + 1\n",
    "            for k in range(j, len(key)):\n",
    "                preanswer += key[k]\n",
    "            answer = preanswer\n",
    "            \n",
    "    print(answer)\n",
    "    final_answer = int(answer, 2)\n",
    "    print(final_answer)\n",
    "\n",
    "multiply_optimized(A, B)"
   ]
  },
  {
   "cell_type": "code",
   "execution_count": null,
   "metadata": {},
   "outputs": [],
   "source": []
  }
 ],
 "metadata": {
  "kernelspec": {
   "display_name": "Python 3",
   "language": "python",
   "name": "python3"
  },
  "language_info": {
   "codemirror_mode": {
    "name": "ipython",
    "version": 3
   },
   "file_extension": ".py",
   "mimetype": "text/x-python",
   "name": "python",
   "nbconvert_exporter": "python",
   "pygments_lexer": "ipython3",
   "version": "3.6.13"
  }
 },
 "nbformat": 4,
 "nbformat_minor": 2
}
